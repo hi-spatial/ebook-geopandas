{
 "cells": [
  {
   "cell_type": "markdown",
   "id": "1a9c1a21-d558-41f2-9b22-ab5a955f9838",
   "metadata": {},
   "source": [
    "### Menulis ke Shapefile (.shp)"
   ]
  },
  {
   "cell_type": "code",
   "execution_count": 6,
   "id": "1ac0ef80-b855-443c-a081-14f7d174c0a6",
   "metadata": {},
   "outputs": [],
   "source": [
    "import geopandas as gpd\n",
    "from shapely.geometry import Point, Polygon\n",
    "\n",
    "# Example GeoDataFrame 1: Points (earthquake locations)\n",
    "data1 = {\n",
    "    'id': [1, 2, 3],\n",
    "    'place': ['Tokyo', 'San Francisco', 'Jakarta'],\n",
    "    'latitude': [35.6762, 37.7749, -6.2088],\n",
    "    'longitude': [139.6503, -122.4194, 106.8456]\n",
    "}\n",
    "geometry1 = [Point(xy) for xy in zip(data1['longitude'], data1['latitude'])]\n",
    "gdf = gpd.GeoDataFrame(data1, geometry=geometry1)\n",
    "gdf = gdf.set_crs(epsg=3857)\n",
    "gdf.to_file(\"./data example/output_shapefile.shp\")"
   ]
  },
  {
   "cell_type": "markdown",
   "id": "b5d9a11d-e767-41b5-ade5-ed16e501d915",
   "metadata": {},
   "source": [
    "### Membaca Shapefile (.shp)"
   ]
  },
  {
   "cell_type": "code",
   "execution_count": 10,
   "id": "484f9026-b049-4182-befd-e916e355e540",
   "metadata": {},
   "outputs": [
    {
     "data": {
      "text/html": [
       "<div>\n",
       "<style scoped>\n",
       "    .dataframe tbody tr th:only-of-type {\n",
       "        vertical-align: middle;\n",
       "    }\n",
       "\n",
       "    .dataframe tbody tr th {\n",
       "        vertical-align: top;\n",
       "    }\n",
       "\n",
       "    .dataframe thead th {\n",
       "        text-align: right;\n",
       "    }\n",
       "</style>\n",
       "<table border=\"1\" class=\"dataframe\">\n",
       "  <thead>\n",
       "    <tr style=\"text-align: right;\">\n",
       "      <th></th>\n",
       "      <th>id</th>\n",
       "      <th>place</th>\n",
       "      <th>latitude</th>\n",
       "      <th>longitude</th>\n",
       "      <th>geometry</th>\n",
       "    </tr>\n",
       "  </thead>\n",
       "  <tbody>\n",
       "    <tr>\n",
       "      <th>0</th>\n",
       "      <td>1</td>\n",
       "      <td>Tokyo</td>\n",
       "      <td>35.6762</td>\n",
       "      <td>139.6503</td>\n",
       "      <td>POINT (139.65 35.676)</td>\n",
       "    </tr>\n",
       "    <tr>\n",
       "      <th>1</th>\n",
       "      <td>2</td>\n",
       "      <td>San Francisco</td>\n",
       "      <td>37.7749</td>\n",
       "      <td>-122.4194</td>\n",
       "      <td>POINT (-122.419 37.775)</td>\n",
       "    </tr>\n",
       "    <tr>\n",
       "      <th>2</th>\n",
       "      <td>3</td>\n",
       "      <td>Jakarta</td>\n",
       "      <td>-6.2088</td>\n",
       "      <td>106.8456</td>\n",
       "      <td>POINT (106.846 -6.209)</td>\n",
       "    </tr>\n",
       "  </tbody>\n",
       "</table>\n",
       "</div>"
      ],
      "text/plain": [
       "   id          place  latitude  longitude                 geometry\n",
       "0   1          Tokyo   35.6762   139.6503    POINT (139.65 35.676)\n",
       "1   2  San Francisco   37.7749  -122.4194  POINT (-122.419 37.775)\n",
       "2   3        Jakarta   -6.2088   106.8456   POINT (106.846 -6.209)"
      ]
     },
     "execution_count": 10,
     "metadata": {},
     "output_type": "execute_result"
    }
   ],
   "source": [
    "# Membaca file shapefile\n",
    "gdf = gpd.read_file(\"./data example/output_shapefile.shp\")\n",
    "\n",
    "# Menampilkan 5 baris pertama dari GeoDataFrame (jika ingin menampilkan 5 terakhir gdf.tail(n) n untuk membatasi jumlah output)\n",
    "gdf.head()"
   ]
  },
  {
   "cell_type": "markdown",
   "id": "97cdc486-14dd-41c4-b4b9-406d2cdac9d4",
   "metadata": {},
   "source": [
    "### Menulis ke GeoJSON"
   ]
  },
  {
   "cell_type": "code",
   "execution_count": 12,
   "id": "84f299f7-a881-4332-afde-fef056af922d",
   "metadata": {},
   "outputs": [],
   "source": [
    "# Menulis GeoDataFrame ke file GeoJSON\n",
    "gdf.to_file(\"./data example/output_data.geojson\", driver=\"GeoJSON\")"
   ]
  },
  {
   "cell_type": "markdown",
   "id": "0b9d6666-14cb-4a56-93ef-72f930a9ea67",
   "metadata": {},
   "source": [
    "### Membaca GeoJSON"
   ]
  },
  {
   "cell_type": "code",
   "execution_count": 15,
   "id": "b3a3242a-f4ea-4ddc-8877-a3a0fcb2ff2f",
   "metadata": {},
   "outputs": [
    {
     "data": {
      "text/html": [
       "<div>\n",
       "<style scoped>\n",
       "    .dataframe tbody tr th:only-of-type {\n",
       "        vertical-align: middle;\n",
       "    }\n",
       "\n",
       "    .dataframe tbody tr th {\n",
       "        vertical-align: top;\n",
       "    }\n",
       "\n",
       "    .dataframe thead th {\n",
       "        text-align: right;\n",
       "    }\n",
       "</style>\n",
       "<table border=\"1\" class=\"dataframe\">\n",
       "  <thead>\n",
       "    <tr style=\"text-align: right;\">\n",
       "      <th></th>\n",
       "      <th>id</th>\n",
       "      <th>place</th>\n",
       "      <th>latitude</th>\n",
       "      <th>longitude</th>\n",
       "      <th>geometry</th>\n",
       "    </tr>\n",
       "  </thead>\n",
       "  <tbody>\n",
       "    <tr>\n",
       "      <th>0</th>\n",
       "      <td>1</td>\n",
       "      <td>Tokyo</td>\n",
       "      <td>35.6762</td>\n",
       "      <td>139.6503</td>\n",
       "      <td>POINT (139.65 35.676)</td>\n",
       "    </tr>\n",
       "    <tr>\n",
       "      <th>1</th>\n",
       "      <td>2</td>\n",
       "      <td>San Francisco</td>\n",
       "      <td>37.7749</td>\n",
       "      <td>-122.4194</td>\n",
       "      <td>POINT (-122.419 37.775)</td>\n",
       "    </tr>\n",
       "    <tr>\n",
       "      <th>2</th>\n",
       "      <td>3</td>\n",
       "      <td>Jakarta</td>\n",
       "      <td>-6.2088</td>\n",
       "      <td>106.8456</td>\n",
       "      <td>POINT (106.846 -6.209)</td>\n",
       "    </tr>\n",
       "  </tbody>\n",
       "</table>\n",
       "</div>"
      ],
      "text/plain": [
       "   id          place  latitude  longitude                 geometry\n",
       "0   1          Tokyo   35.6762   139.6503    POINT (139.65 35.676)\n",
       "1   2  San Francisco   37.7749  -122.4194  POINT (-122.419 37.775)\n",
       "2   3        Jakarta   -6.2088   106.8456   POINT (106.846 -6.209)"
      ]
     },
     "execution_count": 15,
     "metadata": {},
     "output_type": "execute_result"
    }
   ],
   "source": [
    "# Membaca file GeoJSON\n",
    "gdf = gpd.read_file(\"./data example/output_data.geojson\")\n",
    "\n",
    "# Menampilkan informasi dari GeoDataFrame\n",
    "gdf.tail()"
   ]
  },
  {
   "cell_type": "markdown",
   "id": "a3310f2c-2423-45cf-b644-ae8633012d8f",
   "metadata": {},
   "source": [
    "### Menulis ke GeoPackage (.gpkg)"
   ]
  },
  {
   "cell_type": "code",
   "execution_count": 16,
   "id": "697decd5-526c-43f4-b28b-12c47b58e091",
   "metadata": {},
   "outputs": [],
   "source": [
    "# Menulis GeoDataFrame ke file GeoPackage\n",
    "gdf.to_file(\"./data example/output_data.gpkg\", layer=\"layer_name_example\", driver=\"GPKG\")"
   ]
  },
  {
   "cell_type": "markdown",
   "id": "a005bfef-3f4b-4f66-bd45-3f5651511d68",
   "metadata": {},
   "source": [
    "### Membaca GeoPackage (.gpkg)"
   ]
  },
  {
   "cell_type": "code",
   "execution_count": 18,
   "id": "7fdd91b0-04ad-4cf2-9bc4-e52cb4c1ba84",
   "metadata": {},
   "outputs": [
    {
     "data": {
      "text/html": [
       "<div>\n",
       "<style scoped>\n",
       "    .dataframe tbody tr th:only-of-type {\n",
       "        vertical-align: middle;\n",
       "    }\n",
       "\n",
       "    .dataframe tbody tr th {\n",
       "        vertical-align: top;\n",
       "    }\n",
       "\n",
       "    .dataframe thead th {\n",
       "        text-align: right;\n",
       "    }\n",
       "</style>\n",
       "<table border=\"1\" class=\"dataframe\">\n",
       "  <thead>\n",
       "    <tr style=\"text-align: right;\">\n",
       "      <th></th>\n",
       "      <th>id</th>\n",
       "      <th>place</th>\n",
       "      <th>latitude</th>\n",
       "      <th>longitude</th>\n",
       "      <th>geometry</th>\n",
       "    </tr>\n",
       "  </thead>\n",
       "  <tbody>\n",
       "    <tr>\n",
       "      <th>0</th>\n",
       "      <td>1</td>\n",
       "      <td>Tokyo</td>\n",
       "      <td>35.6762</td>\n",
       "      <td>139.6503</td>\n",
       "      <td>POINT (139.65 35.676)</td>\n",
       "    </tr>\n",
       "    <tr>\n",
       "      <th>1</th>\n",
       "      <td>2</td>\n",
       "      <td>San Francisco</td>\n",
       "      <td>37.7749</td>\n",
       "      <td>-122.4194</td>\n",
       "      <td>POINT (-122.419 37.775)</td>\n",
       "    </tr>\n",
       "    <tr>\n",
       "      <th>2</th>\n",
       "      <td>3</td>\n",
       "      <td>Jakarta</td>\n",
       "      <td>-6.2088</td>\n",
       "      <td>106.8456</td>\n",
       "      <td>POINT (106.846 -6.209)</td>\n",
       "    </tr>\n",
       "  </tbody>\n",
       "</table>\n",
       "</div>"
      ],
      "text/plain": [
       "   id          place  latitude  longitude                 geometry\n",
       "0   1          Tokyo   35.6762   139.6503    POINT (139.65 35.676)\n",
       "1   2  San Francisco   37.7749  -122.4194  POINT (-122.419 37.775)\n",
       "2   3        Jakarta   -6.2088   106.8456   POINT (106.846 -6.209)"
      ]
     },
     "execution_count": 18,
     "metadata": {},
     "output_type": "execute_result"
    }
   ],
   "source": [
    "# Membaca file GeoPackage\n",
    "gdf = gpd.read_file(\"./data example/output_data.gpkg\", layer=\"layer_name_example\")\n",
    "\n",
    "gdf.head()"
   ]
  },
  {
   "cell_type": "code",
   "execution_count": 21,
   "id": "7c0885bc-5229-4b18-82f1-36bca04ee974",
   "metadata": {},
   "outputs": [],
   "source": [
    "### Menulis KML (Keyhole Markup Language)"
   ]
  },
  {
   "cell_type": "code",
   "execution_count": 23,
   "id": "acc7f48d-a55d-419a-9be4-f190bb1d6d5d",
   "metadata": {},
   "outputs": [],
   "source": [
    "# Menulis GeoDataFrame ke file KML\n",
    "gdf = gdf.set_crs(epsg=3857)\n",
    "gdf.to_file(\"./data example/output_data.kml\", driver=\"KML\")"
   ]
  },
  {
   "cell_type": "markdown",
   "id": "99c5d4ee-bbaa-447d-ab4a-30fcf01c058e",
   "metadata": {},
   "source": [
    "### Membaca KML (Keyhole Markup Language)"
   ]
  },
  {
   "cell_type": "code",
   "execution_count": 25,
   "id": "a7f8ba0e-745a-46ce-bf25-03e4572ef559",
   "metadata": {},
   "outputs": [
    {
     "data": {
      "text/html": [
       "<div>\n",
       "<style scoped>\n",
       "    .dataframe tbody tr th:only-of-type {\n",
       "        vertical-align: middle;\n",
       "    }\n",
       "\n",
       "    .dataframe tbody tr th {\n",
       "        vertical-align: top;\n",
       "    }\n",
       "\n",
       "    .dataframe thead th {\n",
       "        text-align: right;\n",
       "    }\n",
       "</style>\n",
       "<table border=\"1\" class=\"dataframe\">\n",
       "  <thead>\n",
       "    <tr style=\"text-align: right;\">\n",
       "      <th></th>\n",
       "      <th>Name</th>\n",
       "      <th>Description</th>\n",
       "      <th>geometry</th>\n",
       "    </tr>\n",
       "  </thead>\n",
       "  <tbody>\n",
       "    <tr>\n",
       "      <th>0</th>\n",
       "      <td>1</td>\n",
       "      <td>San Francisco</td>\n",
       "      <td>POINT (-0.0011 0.00034)</td>\n",
       "    </tr>\n",
       "    <tr>\n",
       "      <th>1</th>\n",
       "      <td>2</td>\n",
       "      <td>Los Angeles</td>\n",
       "      <td>POINT (-0.00106 0.00031)</td>\n",
       "    </tr>\n",
       "    <tr>\n",
       "      <th>2</th>\n",
       "      <td>3</td>\n",
       "      <td>Tokyo</td>\n",
       "      <td>POINT (0.00125 0.00032)</td>\n",
       "    </tr>\n",
       "    <tr>\n",
       "      <th>3</th>\n",
       "      <td>4</td>\n",
       "      <td>Jakarta</td>\n",
       "      <td>POINT (0.00096 -0.00006)</td>\n",
       "    </tr>\n",
       "    <tr>\n",
       "      <th>4</th>\n",
       "      <td>5</td>\n",
       "      <td>Sydney</td>\n",
       "      <td>POINT (0.00136 -0.0003)</td>\n",
       "    </tr>\n",
       "  </tbody>\n",
       "</table>\n",
       "</div>"
      ],
      "text/plain": [
       "  Name    Description                  geometry\n",
       "0    1  San Francisco   POINT (-0.0011 0.00034)\n",
       "1    2    Los Angeles  POINT (-0.00106 0.00031)\n",
       "2    3          Tokyo   POINT (0.00125 0.00032)\n",
       "3    4        Jakarta  POINT (0.00096 -0.00006)\n",
       "4    5         Sydney   POINT (0.00136 -0.0003)"
      ]
     },
     "execution_count": 25,
     "metadata": {},
     "output_type": "execute_result"
    }
   ],
   "source": [
    "# Membaca file KML\n",
    "gdf = gpd.read_file(\"./data example/output_data.kml\", driver='KML')\n",
    "gdf.head()"
   ]
  },
  {
   "cell_type": "markdown",
   "id": "64b83755-90e9-4848-949a-60fc9111e77e",
   "metadata": {},
   "source": [
    "### validasi GeoDataFrame"
   ]
  },
  {
   "cell_type": "code",
   "execution_count": 19,
   "id": "867bade2-50c8-4308-8b06-131c63842f54",
   "metadata": {},
   "outputs": [
    {
     "data": {
      "text/plain": [
       "0    True\n",
       "1    True\n",
       "2    True\n",
       "dtype: bool"
      ]
     },
     "execution_count": 19,
     "metadata": {},
     "output_type": "execute_result"
    }
   ],
   "source": [
    "# Memeriksa validitas geometri\n",
    "gdf.is_valid"
   ]
  },
  {
   "cell_type": "markdown",
   "id": "ead8f9c1-089b-4399-94f7-34487923fa6d",
   "metadata": {},
   "source": [
    "### Membaca CSV dengan Informasi Geospatial"
   ]
  },
  {
   "cell_type": "code",
   "execution_count": 20,
   "id": "d2566eaf-9696-4f03-8c2a-afd3e88e6cda",
   "metadata": {},
   "outputs": [
    {
     "data": {
      "text/html": [
       "<div>\n",
       "<style scoped>\n",
       "    .dataframe tbody tr th:only-of-type {\n",
       "        vertical-align: middle;\n",
       "    }\n",
       "\n",
       "    .dataframe tbody tr th {\n",
       "        vertical-align: top;\n",
       "    }\n",
       "\n",
       "    .dataframe thead th {\n",
       "        text-align: right;\n",
       "    }\n",
       "</style>\n",
       "<table border=\"1\" class=\"dataframe\">\n",
       "  <thead>\n",
       "    <tr style=\"text-align: right;\">\n",
       "      <th></th>\n",
       "      <th>id</th>\n",
       "      <th>place</th>\n",
       "      <th>latitude</th>\n",
       "      <th>longitude</th>\n",
       "      <th>magnitude</th>\n",
       "      <th>geometry</th>\n",
       "    </tr>\n",
       "  </thead>\n",
       "  <tbody>\n",
       "    <tr>\n",
       "      <th>0</th>\n",
       "      <td>1</td>\n",
       "      <td>San Francisco</td>\n",
       "      <td>37.7749</td>\n",
       "      <td>-122.4194</td>\n",
       "      <td>5.2</td>\n",
       "      <td>POINT (-122.4194 37.7749)</td>\n",
       "    </tr>\n",
       "    <tr>\n",
       "      <th>1</th>\n",
       "      <td>2</td>\n",
       "      <td>Los Angeles</td>\n",
       "      <td>34.0522</td>\n",
       "      <td>-118.2437</td>\n",
       "      <td>4.6</td>\n",
       "      <td>POINT (-118.2437 34.0522)</td>\n",
       "    </tr>\n",
       "    <tr>\n",
       "      <th>2</th>\n",
       "      <td>3</td>\n",
       "      <td>Tokyo</td>\n",
       "      <td>35.6762</td>\n",
       "      <td>139.6503</td>\n",
       "      <td>6.0</td>\n",
       "      <td>POINT (139.6503 35.6762)</td>\n",
       "    </tr>\n",
       "    <tr>\n",
       "      <th>3</th>\n",
       "      <td>4</td>\n",
       "      <td>Jakarta</td>\n",
       "      <td>-6.2088</td>\n",
       "      <td>106.8456</td>\n",
       "      <td>5.8</td>\n",
       "      <td>POINT (106.8456 -6.2088)</td>\n",
       "    </tr>\n",
       "    <tr>\n",
       "      <th>4</th>\n",
       "      <td>5</td>\n",
       "      <td>Sydney</td>\n",
       "      <td>-33.8688</td>\n",
       "      <td>151.2093</td>\n",
       "      <td>4.2</td>\n",
       "      <td>POINT (151.2093 -33.8688)</td>\n",
       "    </tr>\n",
       "  </tbody>\n",
       "</table>\n",
       "</div>"
      ],
      "text/plain": [
       "   id          place  latitude  longitude  magnitude  \\\n",
       "0   1  San Francisco   37.7749  -122.4194        5.2   \n",
       "1   2    Los Angeles   34.0522  -118.2437        4.6   \n",
       "2   3          Tokyo   35.6762   139.6503        6.0   \n",
       "3   4        Jakarta   -6.2088   106.8456        5.8   \n",
       "4   5         Sydney  -33.8688   151.2093        4.2   \n",
       "\n",
       "                    geometry  \n",
       "0  POINT (-122.4194 37.7749)  \n",
       "1  POINT (-118.2437 34.0522)  \n",
       "2   POINT (139.6503 35.6762)  \n",
       "3   POINT (106.8456 -6.2088)  \n",
       "4  POINT (151.2093 -33.8688)  "
      ]
     },
     "execution_count": 20,
     "metadata": {},
     "output_type": "execute_result"
    }
   ],
   "source": [
    "import pandas as pd\n",
    "\n",
    "# Membaca file CSV\n",
    "df = pd.read_csv(\"./data example/data.csv\")\n",
    "\n",
    "# Membuat kolom geometri menggunakan koordinat\n",
    "geometry = [Point(xy) for xy in zip(df['longitude'], df['latitude'])]\n",
    "\n",
    "# Mengonversi DataFrame menjadi GeoDataFrame\n",
    "gdf = gpd.GeoDataFrame(df, geometry=geometry)\n",
    "gdf.head()"
   ]
  },
  {
   "cell_type": "code",
   "execution_count": null,
   "id": "cd602e97-98b1-4ca3-a979-b4121a618003",
   "metadata": {},
   "outputs": [],
   "source": []
  }
 ],
 "metadata": {
  "kernelspec": {
   "display_name": "Python 3 (ipykernel)",
   "language": "python",
   "name": "python3"
  },
  "language_info": {
   "codemirror_mode": {
    "name": "ipython",
    "version": 3
   },
   "file_extension": ".py",
   "mimetype": "text/x-python",
   "name": "python",
   "nbconvert_exporter": "python",
   "pygments_lexer": "ipython3",
   "version": "3.12.6"
  }
 },
 "nbformat": 4,
 "nbformat_minor": 5
}
