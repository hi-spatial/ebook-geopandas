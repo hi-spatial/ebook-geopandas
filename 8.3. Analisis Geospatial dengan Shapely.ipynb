{
 "cells": [
  {
   "cell_type": "markdown",
   "id": "fee7c136-1994-4b9b-ba59-4b720dca0ac5",
   "metadata": {},
   "source": [
    "### Pengenalan Shapely dan Konsep Dasar Geometri"
   ]
  },
  {
   "cell_type": "code",
   "execution_count": 19,
   "id": "934c6bbf-bf25-4b26-a87d-220eb1df0463",
   "metadata": {},
   "outputs": [
    {
     "name": "stdout",
     "output_type": "stream",
     "text": [
      "POINT (106.8456 -6.2088)\n"
     ]
    }
   ],
   "source": [
    "from shapely.geometry import Point, MultiPoint\n",
    "\n",
    "# Membuat titik dengan koordinat (106.8456, -6.2088) yang mewakili Jakarta\n",
    "point = Point(106.8456, -6.2088)\n",
    "print(point)"
   ]
  },
  {
   "cell_type": "code",
   "execution_count": 5,
   "id": "2374f6a3-15b9-4fc8-92a4-f08359bca378",
   "metadata": {},
   "outputs": [
    {
     "data": {
      "image/svg+xml": [
       "<svg xmlns=\"http://www.w3.org/2000/svg\" xmlns:xlink=\"http://www.w3.org/1999/xlink\" width=\"100.0\" height=\"100.0\" viewBox=\"105.8456 -7.2088 2.0 2.0\" preserveAspectRatio=\"xMinYMin meet\"><g transform=\"matrix(1,0,0,-1,0,-12.4176)\"><circle cx=\"106.8456\" cy=\"-6.2088\" r=\"0.06\" stroke=\"#555555\" stroke-width=\"0.02\" fill=\"#66cc99\" opacity=\"0.6\" /></g></svg>"
      ],
      "text/plain": [
       "<POINT (106.846 -6.209)>"
      ]
     },
     "execution_count": 5,
     "metadata": {},
     "output_type": "execute_result"
    }
   ],
   "source": [
    "point"
   ]
  },
  {
   "cell_type": "code",
   "execution_count": 6,
   "id": "13bba456-82ec-4d46-ad3b-de5e61237513",
   "metadata": {},
   "outputs": [
    {
     "name": "stdout",
     "output_type": "stream",
     "text": [
      "LINESTRING (106.8456 -6.2088, 107.6191 -6.9175)\n"
     ]
    }
   ],
   "source": [
    "from shapely.geometry import LineString\n",
    "\n",
    "# Membuat garis dari Jakarta ke Bandung\n",
    "line = LineString([(106.8456, -6.2088), (107.6191, -6.9175)])\n",
    "print(line)"
   ]
  },
  {
   "cell_type": "code",
   "execution_count": 7,
   "id": "ea1d81d8-54e5-441a-ba10-66529611598e",
   "metadata": {},
   "outputs": [
    {
     "data": {
      "image/svg+xml": [
       "<svg xmlns=\"http://www.w3.org/2000/svg\" xmlns:xlink=\"http://www.w3.org/1999/xlink\" width=\"100.0\" height=\"100.0\" viewBox=\"106.81466 -6.948440000000001 0.8353800000000007 0.7705800000000007\" preserveAspectRatio=\"xMinYMin meet\"><g transform=\"matrix(1,0,0,-1,0,-13.1263)\"><polyline fill=\"none\" stroke=\"#66cc99\" stroke-width=\"0.016707600000000013\" points=\"106.8456,-6.2088 107.6191,-6.9175\" opacity=\"0.8\" /></g></svg>"
      ],
      "text/plain": [
       "<LINESTRING (106.846 -6.209, 107.619 -6.918)>"
      ]
     },
     "execution_count": 7,
     "metadata": {},
     "output_type": "execute_result"
    }
   ],
   "source": [
    "line"
   ]
  },
  {
   "cell_type": "code",
   "execution_count": 8,
   "id": "63da9699-e0c7-4864-8520-644d536a9639",
   "metadata": {},
   "outputs": [
    {
     "name": "stdout",
     "output_type": "stream",
     "text": [
      "POLYGON ((106.8456 -6.2088, 107.6191 -6.9175, 108.2088 -6.2088, 106.8456 -6.2088))\n"
     ]
    }
   ],
   "source": [
    "from shapely.geometry import Polygon\n",
    "\n",
    "# Membuat poligon segitiga\n",
    "polygon = Polygon([(106.8456, -6.2088), (107.6191, -6.9175), (108.2088, -6.2088)])\n",
    "print(polygon)"
   ]
  },
  {
   "cell_type": "code",
   "execution_count": 9,
   "id": "23e5ade3-62dd-483a-af9a-11404e9bf922",
   "metadata": {},
   "outputs": [
    {
     "data": {
      "image/svg+xml": [
       "<svg xmlns=\"http://www.w3.org/2000/svg\" xmlns:xlink=\"http://www.w3.org/1999/xlink\" width=\"100.0\" height=\"100.0\" viewBox=\"106.791072 -6.972028 1.4722560000000016 0.8177559999999993\" preserveAspectRatio=\"xMinYMin meet\"><g transform=\"matrix(1,0,0,-1,0,-13.1263)\"><path fill-rule=\"evenodd\" fill=\"#66cc99\" stroke=\"#555555\" stroke-width=\"0.029445120000000033\" opacity=\"0.6\" d=\"M 106.8456,-6.2088 L 107.6191,-6.9175 L 108.2088,-6.2088 L 106.8456,-6.2088 z\" /></g></svg>"
      ],
      "text/plain": [
       "<POLYGON ((106.846 -6.209, 107.619 -6.918, 108.209 -6.209, 106.846 -6.209))>"
      ]
     },
     "execution_count": 9,
     "metadata": {},
     "output_type": "execute_result"
    }
   ],
   "source": [
    "polygon"
   ]
  },
  {
   "cell_type": "code",
   "execution_count": 10,
   "id": "db238989-8377-4be4-a956-adfd015813e7",
   "metadata": {},
   "outputs": [
    {
     "name": "stdout",
     "output_type": "stream",
     "text": [
      "POLYGON ((1 0, 1.5 1, 2 0, 1 0))\n"
     ]
    }
   ],
   "source": [
    "# Membuat dua poligon\n",
    "polygon1 = Polygon([(0, 0), (2, 0), (1, 2)])\n",
    "polygon2 = Polygon([(1, 0), (3, 0), (2, 2)])\n",
    "\n",
    "# Menemukan area perpotongan\n",
    "intersection = polygon1.intersection(polygon2)\n",
    "print(intersection)"
   ]
  },
  {
   "cell_type": "code",
   "execution_count": 11,
   "id": "3d498a11-9e2f-49f4-bdf8-93c2eb7f1950",
   "metadata": {},
   "outputs": [
    {
     "data": {
      "image/svg+xml": [
       "<svg xmlns=\"http://www.w3.org/2000/svg\" xmlns:xlink=\"http://www.w3.org/1999/xlink\" width=\"100.0\" height=\"100.0\" viewBox=\"0.96 -0.04 1.08 1.08\" preserveAspectRatio=\"xMinYMin meet\"><g transform=\"matrix(1,0,0,-1,0,1.0)\"><path fill-rule=\"evenodd\" fill=\"#66cc99\" stroke=\"#555555\" stroke-width=\"0.0216\" opacity=\"0.6\" d=\"M 1.0,0.0 L 1.5,1.0 L 2.0,0.0 L 1.0,0.0 z\" /></g></svg>"
      ],
      "text/plain": [
       "<POLYGON ((1 0, 1.5 1, 2 0, 1 0))>"
      ]
     },
     "execution_count": 11,
     "metadata": {},
     "output_type": "execute_result"
    }
   ],
   "source": [
    "intersection"
   ]
  },
  {
   "cell_type": "code",
   "execution_count": 12,
   "id": "0de02678-61c1-4374-9e52-021bc8aa7076",
   "metadata": {},
   "outputs": [
    {
     "name": "stdout",
     "output_type": "stream",
     "text": [
      "POLYGON ((0 0, 1 2, 1.5 1, 2 2, 3 0, 2 0, 1 0, 0 0))\n"
     ]
    }
   ],
   "source": [
    "# Menggabungkan dua poligon\n",
    "union = polygon1.union(polygon2)\n",
    "print(union)"
   ]
  },
  {
   "cell_type": "code",
   "execution_count": 13,
   "id": "2c4c1532-47c8-46e6-9212-2df09ce90f4b",
   "metadata": {},
   "outputs": [
    {
     "data": {
      "image/svg+xml": [
       "<svg xmlns=\"http://www.w3.org/2000/svg\" xmlns:xlink=\"http://www.w3.org/1999/xlink\" width=\"100.0\" height=\"100.0\" viewBox=\"-0.12 -0.12 3.24 2.24\" preserveAspectRatio=\"xMinYMin meet\"><g transform=\"matrix(1,0,0,-1,0,2.0)\"><path fill-rule=\"evenodd\" fill=\"#66cc99\" stroke=\"#555555\" stroke-width=\"0.06480000000000001\" opacity=\"0.6\" d=\"M 0.0,0.0 L 1.0,2.0 L 1.5,1.0 L 2.0,2.0 L 3.0,0.0 L 2.0,0.0 L 1.0,0.0 L 0.0,0.0 z\" /></g></svg>"
      ],
      "text/plain": [
       "<POLYGON ((0 0, 1 2, 1.5 1, 2 2, 3 0, 2 0, 1 0, 0 0))>"
      ]
     },
     "execution_count": 13,
     "metadata": {},
     "output_type": "execute_result"
    }
   ],
   "source": [
    "union"
   ]
  },
  {
   "cell_type": "code",
   "execution_count": 14,
   "id": "c00f14fb-ca05-4ec5-a1ae-3671147861db",
   "metadata": {},
   "outputs": [
    {
     "name": "stdout",
     "output_type": "stream",
     "text": [
      "POLYGON ((107.8456 -6.2088, 107.8407847266722 -6.306817140329561, 107.82638528040323 -6.403890322016128, 107.80254033573222 -6.499084677254462, 107.7694795325113 -6.59148343236509, 107.72752126434835 -6.680196736825998, 107.67706961230255 -6.764370233019602, 107.61861045336275 -6.843193284163646, 107.55270678118656 -6.915906781186548, 107.47999328416365 -6.981810453362737, 107.40117023301961 -7.040269612302545, 107.316996736826 -7.090721264348355, 107.22828343236509 -7.132679532511287, 107.13588467725447 -7.165740335732209, 107.04069032201613 -7.1895852804032305, 106.94361714032956 -7.203984726672197, 106.8456 -7.2088, 106.74758285967044 -7.203984726672197, 106.65050967798388 -7.1895852804032305, 106.55531532274554 -7.165740335732209, 106.46291656763492 -7.132679532511287, 106.37420326317401 -7.090721264348355, 106.2900297669804 -7.040269612302545, 106.21120671583635 -6.981810453362737, 106.13849321881345 -6.915906781186548, 106.07258954663726 -6.843193284163646, 106.01413038769746 -6.764370233019602, 105.96367873565165 -6.680196736825998, 105.92172046748871 -6.59148343236509, 105.88865966426779 -6.499084677254462, 105.86481471959678 -6.403890322016129, 105.85041527332781 -6.306817140329561, 105.8456 -6.2088, 105.85041527332781 -6.110782859670439, 105.86481471959678 -6.013709677983872, 105.88865966426779 -5.918515322745538, 105.92172046748871 -5.8261165676349105, 105.96367873565165 -5.737403263174002, 106.01413038769746 -5.653229766980398, 106.07258954663726 -5.574406715836355, 106.13849321881345 -5.501693218813452, 106.21120671583635 -5.435789546637263, 106.2900297669804 -5.377330387697455, 106.37420326317401 -5.326878735651645, 106.46291656763492 -5.284920467488714, 106.55531532274554 -5.2518596642677915, 106.65050967798388 -5.22801471959677, 106.74758285967044 -5.213615273327803, 106.8456 -5.2088, 106.94361714032956 -5.213615273327803, 107.04069032201613 -5.22801471959677, 107.13588467725447 -5.2518596642677915, 107.22828343236509 -5.284920467488713, 107.316996736826 -5.326878735651645, 107.40117023301961 -5.377330387697454, 107.47999328416365 -5.435789546637263, 107.55270678118656 -5.501693218813452, 107.61861045336273 -5.574406715836354, 107.67706961230255 -5.653229766980398, 107.72752126434835 -5.737403263174002, 107.7694795325113 -5.82611656763491, 107.80254033573222 -5.918515322745538, 107.82638528040323 -6.013709677983871, 107.8407847266722 -6.110782859670439, 107.8456 -6.2088))\n"
     ]
    }
   ],
   "source": [
    "# Membuat buffer 1 unit di sekitar titik\n",
    "buffer = point.buffer(1)\n",
    "print(buffer)"
   ]
  },
  {
   "cell_type": "code",
   "execution_count": 15,
   "id": "5d4d0b93-cd70-4016-917a-900b05c51c4a",
   "metadata": {},
   "outputs": [
    {
     "data": {
      "image/svg+xml": [
       "<svg xmlns=\"http://www.w3.org/2000/svg\" xmlns:xlink=\"http://www.w3.org/1999/xlink\" width=\"100.0\" height=\"100.0\" viewBox=\"105.7656 -7.2888 2.1599999999999966 2.16\" preserveAspectRatio=\"xMinYMin meet\"><g transform=\"matrix(1,0,0,-1,0,-12.4176)\"><path fill-rule=\"evenodd\" fill=\"#66cc99\" stroke=\"#555555\" stroke-width=\"0.0432\" opacity=\"0.6\" d=\"M 107.8456,-6.2088 L 107.8407847266722,-6.306817140329561 L 107.82638528040323,-6.403890322016128 L 107.80254033573222,-6.499084677254462 L 107.7694795325113,-6.59148343236509 L 107.72752126434835,-6.680196736825998 L 107.67706961230255,-6.764370233019602 L 107.61861045336275,-6.843193284163646 L 107.55270678118656,-6.915906781186548 L 107.47999328416365,-6.981810453362737 L 107.40117023301961,-7.040269612302545 L 107.316996736826,-7.090721264348355 L 107.22828343236509,-7.132679532511287 L 107.13588467725447,-7.165740335732209 L 107.04069032201613,-7.1895852804032305 L 106.94361714032956,-7.203984726672197 L 106.8456,-7.2088 L 106.74758285967044,-7.203984726672197 L 106.65050967798388,-7.1895852804032305 L 106.55531532274554,-7.165740335732209 L 106.46291656763492,-7.132679532511287 L 106.37420326317401,-7.090721264348355 L 106.2900297669804,-7.040269612302545 L 106.21120671583635,-6.981810453362737 L 106.13849321881345,-6.915906781186548 L 106.07258954663726,-6.843193284163646 L 106.01413038769746,-6.764370233019602 L 105.96367873565165,-6.680196736825998 L 105.92172046748871,-6.59148343236509 L 105.88865966426779,-6.499084677254462 L 105.86481471959678,-6.403890322016129 L 105.85041527332781,-6.306817140329561 L 105.8456,-6.2088 L 105.85041527332781,-6.110782859670439 L 105.86481471959678,-6.013709677983872 L 105.88865966426779,-5.918515322745538 L 105.92172046748871,-5.8261165676349105 L 105.96367873565165,-5.737403263174002 L 106.01413038769746,-5.653229766980398 L 106.07258954663726,-5.574406715836355 L 106.13849321881345,-5.501693218813452 L 106.21120671583635,-5.435789546637263 L 106.2900297669804,-5.377330387697455 L 106.37420326317401,-5.326878735651645 L 106.46291656763492,-5.284920467488714 L 106.55531532274554,-5.2518596642677915 L 106.65050967798388,-5.22801471959677 L 106.74758285967044,-5.213615273327803 L 106.8456,-5.2088 L 106.94361714032956,-5.213615273327803 L 107.04069032201613,-5.22801471959677 L 107.13588467725447,-5.2518596642677915 L 107.22828343236509,-5.284920467488713 L 107.316996736826,-5.326878735651645 L 107.40117023301961,-5.377330387697454 L 107.47999328416365,-5.435789546637263 L 107.55270678118656,-5.501693218813452 L 107.61861045336273,-5.574406715836354 L 107.67706961230255,-5.653229766980398 L 107.72752126434835,-5.737403263174002 L 107.7694795325113,-5.82611656763491 L 107.80254033573222,-5.918515322745538 L 107.82638528040323,-6.013709677983871 L 107.8407847266722,-6.110782859670439 L 107.8456,-6.2088 z\" /></g></svg>"
      ],
      "text/plain": [
       "<POLYGON ((107.846 -6.209, 107.841 -6.307, 107.826 -6.404, 107.803 -6.499, 1...>"
      ]
     },
     "execution_count": 15,
     "metadata": {},
     "output_type": "execute_result"
    }
   ],
   "source": [
    "buffer"
   ]
  },
  {
   "cell_type": "code",
   "execution_count": 16,
   "id": "8c4c74d1-1d1e-4e6e-bfe9-27b94ca3072b",
   "metadata": {},
   "outputs": [
    {
     "name": "stdout",
     "output_type": "stream",
     "text": [
      "5.0\n"
     ]
    }
   ],
   "source": [
    "# Menghitung jarak antara dua titik\n",
    "point1 = Point(0, 0)\n",
    "point2 = Point(3, 4)\n",
    "print(point1.distance(point2))  # Output: 5.0"
   ]
  },
  {
   "cell_type": "code",
   "execution_count": 20,
   "id": "b12ec62a-ee6e-4562-8b65-cfcde2443386",
   "metadata": {},
   "outputs": [
    {
     "name": "stdout",
     "output_type": "stream",
     "text": [
      "POLYGON ((0 0, 0 1, 1 1, 1 0, 0 0))\n"
     ]
    }
   ],
   "source": [
    "# Membuat convex hull dari beberapa titik\n",
    "points = MultiPoint([(0, 0), (1, 1), (1, 0), (0, 1)])\n",
    "convex_hull = points.convex_hull\n",
    "print(convex_hull)"
   ]
  },
  {
   "cell_type": "code",
   "execution_count": 21,
   "id": "bdb1b436-ed82-4489-86b6-7d360a1978df",
   "metadata": {},
   "outputs": [
    {
     "data": {
      "image/svg+xml": [
       "<svg xmlns=\"http://www.w3.org/2000/svg\" xmlns:xlink=\"http://www.w3.org/1999/xlink\" width=\"100.0\" height=\"100.0\" viewBox=\"-0.04 -0.04 1.08 1.08\" preserveAspectRatio=\"xMinYMin meet\"><g transform=\"matrix(1,0,0,-1,0,1.0)\"><path fill-rule=\"evenodd\" fill=\"#66cc99\" stroke=\"#555555\" stroke-width=\"0.0216\" opacity=\"0.6\" d=\"M 0.0,0.0 L 0.0,1.0 L 1.0,1.0 L 1.0,0.0 L 0.0,0.0 z\" /></g></svg>"
      ],
      "text/plain": [
       "<POLYGON ((0 0, 0 1, 1 1, 1 0, 0 0))>"
      ]
     },
     "execution_count": 21,
     "metadata": {},
     "output_type": "execute_result"
    }
   ],
   "source": [
    "convex_hull"
   ]
  },
  {
   "cell_type": "markdown",
   "id": "f367348d-b83e-47fe-95db-64d1a77e7049",
   "metadata": {},
   "source": [
    "### Menggunakan Shapely untuk Membuat Kolom Geometri dalam GeoDataFrame"
   ]
  },
  {
   "cell_type": "code",
   "execution_count": 24,
   "id": "fd821f13-d264-4b4d-a243-0607570acc9d",
   "metadata": {},
   "outputs": [
    {
     "data": {
      "text/html": [
       "<div>\n",
       "<style scoped>\n",
       "    .dataframe tbody tr th:only-of-type {\n",
       "        vertical-align: middle;\n",
       "    }\n",
       "\n",
       "    .dataframe tbody tr th {\n",
       "        vertical-align: top;\n",
       "    }\n",
       "\n",
       "    .dataframe thead th {\n",
       "        text-align: right;\n",
       "    }\n",
       "</style>\n",
       "<table border=\"1\" class=\"dataframe\">\n",
       "  <thead>\n",
       "    <tr style=\"text-align: right;\">\n",
       "      <th></th>\n",
       "      <th>city</th>\n",
       "      <th>longitude</th>\n",
       "      <th>latitude</th>\n",
       "      <th>geometry</th>\n",
       "    </tr>\n",
       "  </thead>\n",
       "  <tbody>\n",
       "    <tr>\n",
       "      <th>0</th>\n",
       "      <td>Jakarta</td>\n",
       "      <td>106.8456</td>\n",
       "      <td>-6.2088</td>\n",
       "      <td>POINT (106.8456 -6.2088)</td>\n",
       "    </tr>\n",
       "    <tr>\n",
       "      <th>1</th>\n",
       "      <td>Bandung</td>\n",
       "      <td>107.6191</td>\n",
       "      <td>-6.9175</td>\n",
       "      <td>POINT (107.6191 -6.9175)</td>\n",
       "    </tr>\n",
       "  </tbody>\n",
       "</table>\n",
       "</div>"
      ],
      "text/plain": [
       "      city  longitude  latitude                  geometry\n",
       "0  Jakarta   106.8456   -6.2088  POINT (106.8456 -6.2088)\n",
       "1  Bandung   107.6191   -6.9175  POINT (107.6191 -6.9175)"
      ]
     },
     "execution_count": 24,
     "metadata": {},
     "output_type": "execute_result"
    }
   ],
   "source": [
    "import pandas as pd\n",
    "import geopandas as gpd\n",
    "\n",
    "# Membuat DataFrame dengan koordinat\n",
    "df = pd.DataFrame({\n",
    "    'city': ['Jakarta', 'Bandung'],\n",
    "    'longitude': [106.8456, 107.6191],\n",
    "    'latitude': [-6.2088, -6.9175]\n",
    "})\n",
    "\n",
    "# Menggunakan Shapely untuk membuat kolom geometri\n",
    "df['geometry'] = df.apply(lambda row: Point(row['longitude'], row['latitude']), axis=1)\n",
    "\n",
    "# Mengonversi DataFrame menjadi GeoDataFrame\n",
    "gdf = gpd.GeoDataFrame(df, geometry='geometry', crs=\"EPSG:4326\")\n",
    "gdf"
   ]
  },
  {
   "cell_type": "code",
   "execution_count": 25,
   "id": "6697ecd2-af3c-4fed-8dfe-76af691a6afa",
   "metadata": {},
   "outputs": [
    {
     "name": "stderr",
     "output_type": "stream",
     "text": [
      "/var/folders/0c/s4bn1y5d3k3243ym_hrjnyqh0000gp/T/ipykernel_17982/4226243196.py:2: UserWarning: Geometry is in a geographic CRS. Results from 'buffer' are likely incorrect. Use 'GeoSeries.to_crs()' to re-project geometries to a projected CRS before this operation.\n",
      "\n",
      "  gdf['buffer'] = gdf.geometry.buffer(1)\n"
     ]
    },
    {
     "data": {
      "image/svg+xml": [
       "<svg xmlns=\"http://www.w3.org/2000/svg\" xmlns:xlink=\"http://www.w3.org/1999/xlink\" width=\"100.0\" height=\"100.0\" viewBox=\"106.567448 -7.260452 1.32980400000001 1.3946039999999993\" preserveAspectRatio=\"xMinYMin meet\"><g transform=\"matrix(1,0,0,-1,0,-13.1263)\"><path fill-rule=\"evenodd\" fill=\"#66cc99\" stroke=\"#555555\" stroke-width=\"0.027892079999999986\" opacity=\"0.6\" d=\"M 107.8407847266722,-6.306817140329561 L 107.82638528040323,-6.403890322016128 L 107.80254033573222,-6.499084677254462 L 107.7694795325113,-6.59148343236509 L 107.72752126434835,-6.680196736825998 L 107.67706961230255,-6.764370233019602 L 107.61861045336275,-6.843193284163646 L 107.55270678118656,-6.915906781186548 L 107.47999328416365,-6.981810453362737 L 107.40117023301961,-7.040269612302545 L 107.316996736826,-7.090721264348355 L 107.22828343236509,-7.132679532511287 L 107.13588467725447,-7.165740335732209 L 107.04069032201613,-7.1895852804032305 L 106.94361714032956,-7.203984726672197 L 106.8456,-7.2088 L 106.74758285967044,-7.203984726672197 L 106.65787460562296,-7.190677764217723 L 106.63831471959678,-7.112590322016129 L 106.62391527332781,-7.015517140329561 L 106.6191,-6.9175 L 106.62391527332781,-6.8194828596704395 L 106.63831471959678,-6.7224096779838725 L 106.66215966426779,-6.627215322745538 L 106.69522046748871,-6.534816567634911 L 106.73717873565165,-6.4461032631740025 L 106.78763038769746,-6.361929766980398 L 106.84608954663726,-6.283106715836356 L 106.91199321881345,-6.2103932188134525 L 106.98470671583635,-6.1444895466372635 L 107.0635297669804,-6.0860303876974555 L 107.14770326317401,-6.0355787356516455 L 107.23641656763492,-5.993620467488714 L 107.32881532274554,-5.960559664267792 L 107.42400967798388,-5.93671471959677 L 107.52108285967044,-5.922315273327803 L 107.6191,-5.9175 L 107.71711714032956,-5.922315273327803 L 107.80682539437704,-5.935622235782278 L 107.82638528040323,-6.013709677983871 L 107.8407847266722,-6.110782859670439 L 107.8456,-6.2088 L 107.8407847266722,-6.306817140329561 z\" /></g></svg>"
      ],
      "text/plain": [
       "<POLYGON ((107.841 -6.307, 107.826 -6.404, 107.803 -6.499, 107.769 -6.591, 1...>"
      ]
     },
     "execution_count": 25,
     "metadata": {},
     "output_type": "execute_result"
    }
   ],
   "source": [
    "# Membuat buffer 1 derajat di sekitar setiap titik kota\n",
    "gdf['buffer'] = gdf.geometry.buffer(1)\n",
    "\n",
    "# Menemukan area perpotongan antara buffer\n",
    "intersection = gdf['buffer'][0].intersection(gdf['buffer'][1])\n",
    "intersection"
   ]
  },
  {
   "cell_type": "markdown",
   "id": "277b2ad6-5b2d-492a-8e7b-dd73d97741f1",
   "metadata": {},
   "source": [
    "### Contoh Studi Kasus: Mengidentifikasi Area yang Tumpang Tindih"
   ]
  },
  {
   "cell_type": "code",
   "execution_count": 27,
   "id": "9038306a-d18f-4607-bc61-f03c5318262e",
   "metadata": {},
   "outputs": [
    {
     "name": "stderr",
     "output_type": "stream",
     "text": [
      "/var/folders/0c/s4bn1y5d3k3243ym_hrjnyqh0000gp/T/ipykernel_17982/2579995223.py:15: DeprecationWarning: The 'unary_union' attribute is deprecated, use the 'union_all()' method instead.\n",
      "  overlap = gdf_housing.geometry.apply(lambda x: x.intersection(gdf_industry.unary_union))\n"
     ]
    },
    {
     "data": {
      "text/plain": [
       "0    POLYGON ((1 0, 1 2, 2 2, 2 0, 1 0))\n",
       "1    POLYGON ((1 1, 1 2, 3 2, 3 1, 1 1))\n",
       "Name: geometry, dtype: geometry"
      ]
     },
     "execution_count": 27,
     "metadata": {},
     "output_type": "execute_result"
    }
   ],
   "source": [
    "# Membuat GeoDataFrame perumahan dan industri\n",
    "df_housing = pd.DataFrame({\n",
    "    'name': ['Perumahan A', 'Perumahan B'],\n",
    "    'geometry': [Polygon([(0, 0), (2, 0), (2, 2), (0, 2)]), Polygon([(1, 1), (3, 1), (3, 3), (1, 3)])]\n",
    "})\n",
    "gdf_housing = gpd.GeoDataFrame(df_housing, geometry='geometry')\n",
    "\n",
    "df_industry = pd.DataFrame({\n",
    "    'name': ['Industri X'],\n",
    "    'geometry': [Polygon([(1, 0), (3, 0), (3, 2), (1, 2)])]\n",
    "})\n",
    "gdf_industry = gpd.GeoDataFrame(df_industry, geometry='geometry')\n",
    "\n",
    "# Menemukan area perpotongan antara perumahan dan industri\n",
    "overlap = gdf_housing.geometry.apply(lambda x: x.intersection(gdf_industry.unary_union))\n",
    "overlap"
   ]
  },
  {
   "cell_type": "code",
   "execution_count": null,
   "id": "9b0e5ff6-fec8-4109-a267-514592713082",
   "metadata": {},
   "outputs": [],
   "source": []
  }
 ],
 "metadata": {
  "kernelspec": {
   "display_name": "Python 3 (ipykernel)",
   "language": "python",
   "name": "python3"
  },
  "language_info": {
   "codemirror_mode": {
    "name": "ipython",
    "version": 3
   },
   "file_extension": ".py",
   "mimetype": "text/x-python",
   "name": "python",
   "nbconvert_exporter": "python",
   "pygments_lexer": "ipython3",
   "version": "3.12.6"
  }
 },
 "nbformat": 4,
 "nbformat_minor": 5
}
