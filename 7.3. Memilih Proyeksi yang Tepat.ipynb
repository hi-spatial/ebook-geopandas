{
 "cells": [
  {
   "cell_type": "markdown",
   "id": "6f18b9fd-0fe7-4b64-91dd-695cf73724ba",
   "metadata": {},
   "source": [
    "### Contoh Pemilihan Proyeksi dalam Analisis Geospatial dengan GeoPandas"
   ]
  },
  {
   "cell_type": "code",
   "execution_count": null,
   "id": "aa67acff-9f20-4c51-aced-b460e1976c94",
   "metadata": {},
   "outputs": [],
   "source": []
  }
 ],
 "metadata": {
  "kernelspec": {
   "display_name": "Python 3 (ipykernel)",
   "language": "python",
   "name": "python3"
  },
  "language_info": {
   "codemirror_mode": {
    "name": "ipython",
    "version": 3
   },
   "file_extension": ".py",
   "mimetype": "text/x-python",
   "name": "python",
   "nbconvert_exporter": "python",
   "pygments_lexer": "ipython3",
   "version": "3.12.6"
  }
 },
 "nbformat": 4,
 "nbformat_minor": 5
}
