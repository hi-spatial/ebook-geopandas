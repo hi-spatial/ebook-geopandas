{
 "cells": [
  {
   "cell_type": "markdown",
   "id": "19924d37-d848-46c6-8709-573510391fd1",
   "metadata": {},
   "source": [
    "### Mengonversi DataFrame Pandas Menjadi GeoDataFrame\n"
   ]
  },
  {
   "cell_type": "code",
   "execution_count": 1,
   "id": "9c15e808-ead7-4554-9b4c-2863262adf81",
   "metadata": {},
   "outputs": [
    {
     "data": {
      "text/html": [
       "<div>\n",
       "<style scoped>\n",
       "    .dataframe tbody tr th:only-of-type {\n",
       "        vertical-align: middle;\n",
       "    }\n",
       "\n",
       "    .dataframe tbody tr th {\n",
       "        vertical-align: top;\n",
       "    }\n",
       "\n",
       "    .dataframe thead th {\n",
       "        text-align: right;\n",
       "    }\n",
       "</style>\n",
       "<table border=\"1\" class=\"dataframe\">\n",
       "  <thead>\n",
       "    <tr style=\"text-align: right;\">\n",
       "      <th></th>\n",
       "      <th>city</th>\n",
       "      <th>latitude</th>\n",
       "      <th>longitude</th>\n",
       "      <th>geometry</th>\n",
       "    </tr>\n",
       "  </thead>\n",
       "  <tbody>\n",
       "    <tr>\n",
       "      <th>0</th>\n",
       "      <td>Jakarta</td>\n",
       "      <td>-6.2088</td>\n",
       "      <td>106.8456</td>\n",
       "      <td>POINT (106.8456 -6.2088)</td>\n",
       "    </tr>\n",
       "    <tr>\n",
       "      <th>1</th>\n",
       "      <td>Bandung</td>\n",
       "      <td>-6.9175</td>\n",
       "      <td>107.6191</td>\n",
       "      <td>POINT (107.6191 -6.9175)</td>\n",
       "    </tr>\n",
       "    <tr>\n",
       "      <th>2</th>\n",
       "      <td>Surabaya</td>\n",
       "      <td>-7.2504</td>\n",
       "      <td>112.7688</td>\n",
       "      <td>POINT (112.7688 -7.2504)</td>\n",
       "    </tr>\n",
       "  </tbody>\n",
       "</table>\n",
       "</div>"
      ],
      "text/plain": [
       "       city  latitude  longitude                  geometry\n",
       "0   Jakarta   -6.2088   106.8456  POINT (106.8456 -6.2088)\n",
       "1   Bandung   -6.9175   107.6191  POINT (107.6191 -6.9175)\n",
       "2  Surabaya   -7.2504   112.7688  POINT (112.7688 -7.2504)"
      ]
     },
     "execution_count": 1,
     "metadata": {},
     "output_type": "execute_result"
    }
   ],
   "source": [
    "import pandas as pd\n",
    "import geopandas as gpd\n",
    "from shapely.geometry import Point\n",
    "\n",
    "# Membuat DataFrame Pandas\n",
    "data = {\n",
    "    'city': ['Jakarta', 'Bandung', 'Surabaya'],\n",
    "    'latitude': [-6.2088, -6.9175, -7.2504],\n",
    "    'longitude': [106.8456, 107.6191, 112.7688]\n",
    "}\n",
    "df = pd.DataFrame(data)\n",
    "\n",
    "# Membuat kolom 'geometry' dengan titik geometri\n",
    "df['geometry'] = df.apply(lambda row: Point(row['longitude'], row['latitude']), axis=1)\n",
    "\n",
    "# Mengonversi DataFrame menjadi GeoDataFrame\n",
    "gdf = gpd.GeoDataFrame(df, geometry='geometry')\n",
    "\n",
    "# Menetapkan CRS (Coordinate Reference System) sebagai WGS84\n",
    "gdf.set_crs(epsg=4326, inplace=True)\n",
    "\n",
    "gdf.head()"
   ]
  },
  {
   "cell_type": "markdown",
   "id": "3060ffe9-fa9e-4ddb-b32a-30125171aa42",
   "metadata": {},
   "source": [
    "### Mengonversi GeoDataFrame Menjadi DataFrame Pandas"
   ]
  },
  {
   "cell_type": "code",
   "execution_count": 3,
   "id": "58a4c8bd-8916-49ff-bd4a-c75df0e555bb",
   "metadata": {},
   "outputs": [
    {
     "data": {
      "text/html": [
       "<div>\n",
       "<style scoped>\n",
       "    .dataframe tbody tr th:only-of-type {\n",
       "        vertical-align: middle;\n",
       "    }\n",
       "\n",
       "    .dataframe tbody tr th {\n",
       "        vertical-align: top;\n",
       "    }\n",
       "\n",
       "    .dataframe thead th {\n",
       "        text-align: right;\n",
       "    }\n",
       "</style>\n",
       "<table border=\"1\" class=\"dataframe\">\n",
       "  <thead>\n",
       "    <tr style=\"text-align: right;\">\n",
       "      <th></th>\n",
       "      <th>city</th>\n",
       "      <th>latitude</th>\n",
       "      <th>longitude</th>\n",
       "    </tr>\n",
       "  </thead>\n",
       "  <tbody>\n",
       "    <tr>\n",
       "      <th>0</th>\n",
       "      <td>Jakarta</td>\n",
       "      <td>-6.2088</td>\n",
       "      <td>106.8456</td>\n",
       "    </tr>\n",
       "    <tr>\n",
       "      <th>1</th>\n",
       "      <td>Bandung</td>\n",
       "      <td>-6.9175</td>\n",
       "      <td>107.6191</td>\n",
       "    </tr>\n",
       "    <tr>\n",
       "      <th>2</th>\n",
       "      <td>Surabaya</td>\n",
       "      <td>-7.2504</td>\n",
       "      <td>112.7688</td>\n",
       "    </tr>\n",
       "  </tbody>\n",
       "</table>\n",
       "</div>"
      ],
      "text/plain": [
       "       city  latitude  longitude\n",
       "0   Jakarta   -6.2088   106.8456\n",
       "1   Bandung   -6.9175   107.6191\n",
       "2  Surabaya   -7.2504   112.7688"
      ]
     },
     "execution_count": 3,
     "metadata": {},
     "output_type": "execute_result"
    }
   ],
   "source": [
    "# Mengonversi GeoDataFrame menjadi DataFrame Pandas dengan menghapus kolom 'geometry'\n",
    "df_pandas = gdf.drop(columns='geometry')\n",
    "df_pandas.head()"
   ]
  },
  {
   "cell_type": "markdown",
   "id": "0f8ee3ec-0f3e-4d8d-b49f-49684ba6d2d4",
   "metadata": {},
   "source": [
    "### Menggabungkan Data (Join/Merge) antara GeoDataFrame dan DataFrame\n"
   ]
  },
  {
   "cell_type": "code",
   "execution_count": 4,
   "id": "2b129d00-43e5-467a-a30d-44dca50537a9",
   "metadata": {},
   "outputs": [
    {
     "data": {
      "text/html": [
       "<div>\n",
       "<style scoped>\n",
       "    .dataframe tbody tr th:only-of-type {\n",
       "        vertical-align: middle;\n",
       "    }\n",
       "\n",
       "    .dataframe tbody tr th {\n",
       "        vertical-align: top;\n",
       "    }\n",
       "\n",
       "    .dataframe thead th {\n",
       "        text-align: right;\n",
       "    }\n",
       "</style>\n",
       "<table border=\"1\" class=\"dataframe\">\n",
       "  <thead>\n",
       "    <tr style=\"text-align: right;\">\n",
       "      <th></th>\n",
       "      <th>city</th>\n",
       "      <th>geometry</th>\n",
       "      <th>population</th>\n",
       "    </tr>\n",
       "  </thead>\n",
       "  <tbody>\n",
       "    <tr>\n",
       "      <th>0</th>\n",
       "      <td>Jakarta</td>\n",
       "      <td>POINT (106.8456 -6.2088)</td>\n",
       "      <td>10770487</td>\n",
       "    </tr>\n",
       "    <tr>\n",
       "      <th>1</th>\n",
       "      <td>Bandung</td>\n",
       "      <td>POINT (107.6191 -6.9175)</td>\n",
       "      <td>2394876</td>\n",
       "    </tr>\n",
       "    <tr>\n",
       "      <th>2</th>\n",
       "      <td>Surabaya</td>\n",
       "      <td>POINT (112.7688 -7.2504)</td>\n",
       "      <td>2985258</td>\n",
       "    </tr>\n",
       "  </tbody>\n",
       "</table>\n",
       "</div>"
      ],
      "text/plain": [
       "       city                  geometry  population\n",
       "0   Jakarta  POINT (106.8456 -6.2088)    10770487\n",
       "1   Bandung  POINT (107.6191 -6.9175)     2394876\n",
       "2  Surabaya  POINT (112.7688 -7.2504)     2985258"
      ]
     },
     "execution_count": 4,
     "metadata": {},
     "output_type": "execute_result"
    }
   ],
   "source": [
    "# Membuat GeoDataFrame berisi data geospatial kota\n",
    "gdf_cities = gpd.GeoDataFrame({\n",
    "    'city': ['Jakarta', 'Bandung', 'Surabaya'],\n",
    "    'geometry': [Point(106.8456, -6.2088), Point(107.6191, -6.9175), Point(112.7688, -7.2504)]\n",
    "}, crs=\"EPSG:4326\")\n",
    "\n",
    "# Membuat DataFrame Pandas berisi data populasi\n",
    "df_population = pd.DataFrame({\n",
    "    'city': ['Jakarta', 'Bandung', 'Surabaya'],\n",
    "    'population': [10770487, 2394876, 2985258]\n",
    "})\n",
    "\n",
    "# Menggabungkan GeoDataFrame dan DataFrame berdasarkan kolom 'city'\n",
    "gdf_combined = gdf_cities.merge(df_population, on='city')\n",
    "gdf_combined.head()"
   ]
  },
  {
   "cell_type": "markdown",
   "id": "e3db6125-5a1a-46f1-b2bf-c4d400311f5a",
   "metadata": {},
   "source": [
    "### Analisis Data dan Statistik dengan GeoPandas dan Pandas"
   ]
  },
  {
   "cell_type": "code",
   "execution_count": 6,
   "id": "49f516c2-9604-4121-ab71-0c7921d8aea8",
   "metadata": {},
   "outputs": [
    {
     "data": {
      "text/html": [
       "<div>\n",
       "<style scoped>\n",
       "    .dataframe tbody tr th:only-of-type {\n",
       "        vertical-align: middle;\n",
       "    }\n",
       "\n",
       "    .dataframe tbody tr th {\n",
       "        vertical-align: top;\n",
       "    }\n",
       "\n",
       "    .dataframe thead th {\n",
       "        text-align: right;\n",
       "    }\n",
       "</style>\n",
       "<table border=\"1\" class=\"dataframe\">\n",
       "  <thead>\n",
       "    <tr style=\"text-align: right;\">\n",
       "      <th></th>\n",
       "      <th>province</th>\n",
       "      <th>population</th>\n",
       "    </tr>\n",
       "  </thead>\n",
       "  <tbody>\n",
       "    <tr>\n",
       "      <th>0</th>\n",
       "      <td>Jawa Barat</td>\n",
       "      <td>3440611</td>\n",
       "    </tr>\n",
       "    <tr>\n",
       "      <th>1</th>\n",
       "      <td>Jawa Timur</td>\n",
       "      <td>2985258</td>\n",
       "    </tr>\n",
       "  </tbody>\n",
       "</table>\n",
       "</div>"
      ],
      "text/plain": [
       "     province  population\n",
       "0  Jawa Barat     3440611\n",
       "1  Jawa Timur     2985258"
      ]
     },
     "execution_count": 6,
     "metadata": {},
     "output_type": "execute_result"
    }
   ],
   "source": [
    "# Membuat GeoDataFrame untuk contoh analisis\n",
    "gdf_districts = gpd.GeoDataFrame({\n",
    "    'province': ['Jawa Barat', 'Jawa Barat', 'Jawa Timur'],\n",
    "    'district': ['Bandung', 'Bogor', 'Surabaya'],\n",
    "    'population': [2394876, 1045735, 2985258],\n",
    "    'geometry': [Point(107.6191, -6.9175), Point(106.8074, -6.5962), Point(112.7688, -7.2504)]\n",
    "}, crs=\"EPSG:4326\")\n",
    "\n",
    "# Mengelompokkan data berdasarkan provinsi dan menghitung total populasi\n",
    "population_by_province = gdf_districts.groupby('province')['population'].sum().reset_index()\n",
    "population_by_province.head()"
   ]
  },
  {
   "cell_type": "markdown",
   "id": "2b24bf17-d5a3-4daf-a6d2-d68f21f24fa0",
   "metadata": {},
   "source": [
    "### Visualisasi Data dengan GeoPandas dan Pandas"
   ]
  },
  {
   "cell_type": "code",
   "execution_count": 7,
   "id": "3671c6cb-f09f-4615-b079-140e5a0858ed",
   "metadata": {},
   "outputs": [
    {
     "data": {
      "image/png": "[encoded data removed]",
      "text/plain": [
       "<Figure size 1000x600 with 1 Axes>"
      ]
     },
     "metadata": {},
     "output_type": "display_data"
    }
   ],
   "source": [
    "import matplotlib.pyplot as plt\n",
    "\n",
    "# Menggabungkan data kota dengan data populasi\n",
    "gdf_cities = gdf_cities.merge(df_population, on='city')\n",
    "\n",
    "# Membuat peta dengan ukuran titik berdasarkan populasi\n",
    "ax = gdf_cities.plot(figsize=(10, 6), marker='o', color='blue', markersize=gdf_cities['population'] / 100000, alpha=0.6, legend=True)\n",
    "\n",
    "plt.title(\"Peta Kota berdasarkan Populasi\")\n",
    "plt.xlabel(\"Longitude\")\n",
    "plt.ylabel(\"Latitude\")\n",
    "plt.grid(True)\n",
    "plt.show()"
   ]
  },
  {
   "cell_type": "code",
   "execution_count": null,
   "id": "8ba18478-9ff6-484e-a71a-cd56703635f1",
   "metadata": {},
   "outputs": [],
   "source": []
  }
 ],
 "metadata": {
  "kernelspec": {
   "display_name": "Python 3 (ipykernel)",
   "language": "python",
   "name": "python3"
  },
  "language_info": {
   "codemirror_mode": {
    "name": "ipython",
    "version": 3
   },
   "file_extension": ".py",
   "mimetype": "text/x-python",
   "name": "python",
   "nbconvert_exporter": "python",
   "pygments_lexer": "ipython3",
   "version": "3.12.6"
  }
 },
 "nbformat": 4,
 "nbformat_minor": 5
}
