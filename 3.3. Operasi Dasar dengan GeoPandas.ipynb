{
 "cells": [
  {
   "cell_type": "markdown",
   "id": "ccc6df99-57b9-4d7e-98e2-99e95abe80f9",
   "metadata": {},
   "source": [
    "### Membaca dan Menulis Data Geospatial"
   ]
  },
  {
   "cell_type": "code",
   "execution_count": null,
   "id": "83949455-788e-4ac7-9146-ae9041b0c9f6",
   "metadata": {},
   "outputs": [],
   "source": []
  }
 ],
 "metadata": {
  "kernelspec": {
   "display_name": "Python 3 (ipykernel)",
   "language": "python",
   "name": "python3"
  },
  "language_info": {
   "codemirror_mode": {
    "name": "ipython",
    "version": 3
   },
   "file_extension": ".py",
   "mimetype": "text/x-python",
   "name": "python",
   "nbconvert_exporter": "python",
   "pygments_lexer": "ipython3",
   "version": "3.12.6"
  }
 },
 "nbformat": 4,
 "nbformat_minor": 5
}
