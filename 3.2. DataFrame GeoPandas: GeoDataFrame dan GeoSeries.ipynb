{
 "cells": [
  {
   "cell_type": "markdown",
   "id": "19b14d85-b916-4a9a-b1ad-3552b50054f7",
   "metadata": {},
   "source": [
    "### Contoh membuat GeoSeries sederhana"
   ]
  },
  {
   "cell_type": "code",
   "execution_count": 1,
   "id": "dc937057-e2f1-4d29-a098-b63d43d8fa68",
   "metadata": {},
   "outputs": [
    {
     "data": {
      "text/plain": [
       "0                            POINT (1 1)\n",
       "1             LINESTRING (0 0, 1 1, 2 2)\n",
       "2    POLYGON ((0 0, 1 0, 1 1, 0 1, 0 0))\n",
       "dtype: geometry"
      ]
     },
     "execution_count": 1,
     "metadata": {},
     "output_type": "execute_result"
    }
   ],
   "source": [
    "import geopandas as gpd\n",
    "from shapely.geometry import Point, LineString, Polygon\n",
    "\n",
    "# Membuat GeoSeries dari objek geometris\n",
    "geo_series = gpd.GeoSeries([\n",
    "    Point(1, 1),  # Titik\n",
    "    LineString([(0, 0), (1, 1), (2, 2)]),  # Garis\n",
    "    Polygon([(0, 0), (1, 0), (1, 1), (0, 1)])  # Poligon\n",
    "])\n",
    "\n",
    "geo_series.head()"
   ]
  },
  {
   "cell_type": "markdown",
   "id": "cd38d862-11cb-4979-ac32-a0ded6f9feeb",
   "metadata": {},
   "source": [
    "### Contoh membuat GeoDataFrame"
   ]
  },
  {
   "cell_type": "code",
   "execution_count": 2,
   "id": "3b9f7e8d-76f5-471a-bc55-f0f2fcb89312",
   "metadata": {},
   "outputs": [
    {
     "data": {
      "text/html": [
       "<div>\n",
       "<style scoped>\n",
       "    .dataframe tbody tr th:only-of-type {\n",
       "        vertical-align: middle;\n",
       "    }\n",
       "\n",
       "    .dataframe tbody tr th {\n",
       "        vertical-align: top;\n",
       "    }\n",
       "\n",
       "    .dataframe thead th {\n",
       "        text-align: right;\n",
       "    }\n",
       "</style>\n",
       "<table border=\"1\" class=\"dataframe\">\n",
       "  <thead>\n",
       "    <tr style=\"text-align: right;\">\n",
       "      <th></th>\n",
       "      <th>name</th>\n",
       "      <th>geometry</th>\n",
       "    </tr>\n",
       "  </thead>\n",
       "  <tbody>\n",
       "    <tr>\n",
       "      <th>0</th>\n",
       "      <td>Point A</td>\n",
       "      <td>POINT (1 1)</td>\n",
       "    </tr>\n",
       "    <tr>\n",
       "      <th>1</th>\n",
       "      <td>Line B</td>\n",
       "      <td>LINESTRING (0 0, 1 1, 2 2)</td>\n",
       "    </tr>\n",
       "    <tr>\n",
       "      <th>2</th>\n",
       "      <td>Polygon C</td>\n",
       "      <td>POLYGON ((0 0, 1 0, 1 1, 0 1, 0 0))</td>\n",
       "    </tr>\n",
       "  </tbody>\n",
       "</table>\n",
       "</div>"
      ],
      "text/plain": [
       "        name                             geometry\n",
       "0    Point A                          POINT (1 1)\n",
       "1     Line B           LINESTRING (0 0, 1 1, 2 2)\n",
       "2  Polygon C  POLYGON ((0 0, 1 0, 1 1, 0 1, 0 0))"
      ]
     },
     "execution_count": 2,
     "metadata": {},
     "output_type": "execute_result"
    }
   ],
   "source": [
    "# import geopandas as gpd\n",
    "\n",
    "# Membuat GeoDataFrame dari GeoSeries\n",
    "gdf = gpd.GeoDataFrame({\n",
    "    'name': ['Point A', 'Line B', 'Polygon C'],\n",
    "    'geometry': geo_series # variable geo_series disini diambil dari source code sub judul diatas (GeoSeries)\n",
    "})\n",
    "\n",
    "gdf.head()"
   ]
  },
  {
   "cell_type": "markdown",
   "id": "2de7f2db-c465-4db2-9c9f-a80aa309c18b",
   "metadata": {},
   "source": [
    "### Menyeleksi Data dalam GeoDataFrame"
   ]
  },
  {
   "cell_type": "code",
   "execution_count": 3,
   "id": "82ee6861-a95c-43bb-8a41-29c296d29ca8",
   "metadata": {},
   "outputs": [
    {
     "data": {
      "text/html": [
       "<div>\n",
       "<style scoped>\n",
       "    .dataframe tbody tr th:only-of-type {\n",
       "        vertical-align: middle;\n",
       "    }\n",
       "\n",
       "    .dataframe tbody tr th {\n",
       "        vertical-align: top;\n",
       "    }\n",
       "\n",
       "    .dataframe thead th {\n",
       "        text-align: right;\n",
       "    }\n",
       "</style>\n",
       "<table border=\"1\" class=\"dataframe\">\n",
       "  <thead>\n",
       "    <tr style=\"text-align: right;\">\n",
       "      <th></th>\n",
       "      <th>name</th>\n",
       "      <th>geometry</th>\n",
       "    </tr>\n",
       "  </thead>\n",
       "  <tbody>\n",
       "    <tr>\n",
       "      <th>0</th>\n",
       "      <td>Point A</td>\n",
       "      <td>POINT (1 1)</td>\n",
       "    </tr>\n",
       "  </tbody>\n",
       "</table>\n",
       "</div>"
      ],
      "text/plain": [
       "      name     geometry\n",
       "0  Point A  POINT (1 1)"
      ]
     },
     "execution_count": 3,
     "metadata": {},
     "output_type": "execute_result"
    }
   ],
   "source": [
    "# Seleksi baris berdasarkan kondisi\n",
    "# variable gdf disini diambil dari source code sub judul diatas (GeoDataFrame)\n",
    "# 'name' adalah penamaan column yang akan difilter\n",
    "selected = gdf[gdf['name'] == 'Point A']\n",
    "selected.head()"
   ]
  },
  {
   "cell_type": "markdown",
   "id": "b1ce56ab-4d8c-4ce1-8d79-c98033fb02bf",
   "metadata": {},
   "source": [
    "### Operasi Geometri Umum"
   ]
  },
  {
   "cell_type": "code",
   "execution_count": 4,
   "id": "4c2fa573-07dd-4760-8743-7dbb14f66142",
   "metadata": {},
   "outputs": [
    {
     "data": {
      "text/html": [
       "<div>\n",
       "<style scoped>\n",
       "    .dataframe tbody tr th:only-of-type {\n",
       "        vertical-align: middle;\n",
       "    }\n",
       "\n",
       "    .dataframe tbody tr th {\n",
       "        vertical-align: top;\n",
       "    }\n",
       "\n",
       "    .dataframe thead th {\n",
       "        text-align: right;\n",
       "    }\n",
       "</style>\n",
       "<table border=\"1\" class=\"dataframe\">\n",
       "  <thead>\n",
       "    <tr style=\"text-align: right;\">\n",
       "      <th></th>\n",
       "      <th>name</th>\n",
       "      <th>geometry</th>\n",
       "      <th>centroid</th>\n",
       "      <th>convex_hull</th>\n",
       "    </tr>\n",
       "  </thead>\n",
       "  <tbody>\n",
       "    <tr>\n",
       "      <th>0</th>\n",
       "      <td>Point A</td>\n",
       "      <td>POINT (1 1)</td>\n",
       "      <td>POINT (1 1)</td>\n",
       "      <td>POINT (1 1)</td>\n",
       "    </tr>\n",
       "    <tr>\n",
       "      <th>1</th>\n",
       "      <td>Line B</td>\n",
       "      <td>LINESTRING (0 0, 1 1, 2 2)</td>\n",
       "      <td>POINT (1 1)</td>\n",
       "      <td>LINESTRING (0 0, 2 2)</td>\n",
       "    </tr>\n",
       "    <tr>\n",
       "      <th>2</th>\n",
       "      <td>Polygon C</td>\n",
       "      <td>POLYGON ((0 0, 1 0, 1 1, 0 1, 0 0))</td>\n",
       "      <td>POINT (0.5 0.5)</td>\n",
       "      <td>POLYGON ((0 0, 0 1, 1 1, 1 0, 0 0))</td>\n",
       "    </tr>\n",
       "  </tbody>\n",
       "</table>\n",
       "</div>"
      ],
      "text/plain": [
       "        name                             geometry         centroid  \\\n",
       "0    Point A                          POINT (1 1)      POINT (1 1)   \n",
       "1     Line B           LINESTRING (0 0, 1 1, 2 2)      POINT (1 1)   \n",
       "2  Polygon C  POLYGON ((0 0, 1 0, 1 1, 0 1, 0 0))  POINT (0.5 0.5)   \n",
       "\n",
       "                           convex_hull  \n",
       "0                          POINT (1 1)  \n",
       "1                LINESTRING (0 0, 2 2)  \n",
       "2  POLYGON ((0 0, 0 1, 1 1, 1 0, 0 0))  "
      ]
     },
     "execution_count": 4,
     "metadata": {},
     "output_type": "execute_result"
    }
   ],
   "source": [
    "# variable gdf disini diambil dari source code sub judul diatas (GeoDataFrame)\n",
    "# sebuah variable GeoDataFrame ketika mengakses gdf['contoh'] maka akan menambah column 'contoh' baru ketika belum ada penamaan column tersebut\n",
    "\n",
    "# Menghitung centroid dari setiap geometri\n",
    "gdf['centroid'] = gdf.geometry.centroid\n",
    "\n",
    "# Menghasilkan convex hull dari setiap geometri\n",
    "gdf['convex_hull'] = gdf.geometry.convex_hull\n",
    "\n",
    "gdf[['name', 'geometry', 'centroid', 'convex_hull']]"
   ]
  },
  {
   "cell_type": "markdown",
   "id": "c4d9a500-3afc-4b8f-9c07-5c2c19f33956",
   "metadata": {},
   "source": [
    "### Penggabungan dan Penyaringan Data"
   ]
  },
  {
   "cell_type": "code",
   "execution_count": 6,
   "id": "26097fb6-177b-4178-aa51-335724762cbc",
   "metadata": {},
   "outputs": [
    {
     "data": {
      "text/html": [
       "<div>\n",
       "<style scoped>\n",
       "    .dataframe tbody tr th:only-of-type {\n",
       "        vertical-align: middle;\n",
       "    }\n",
       "\n",
       "    .dataframe tbody tr th {\n",
       "        vertical-align: top;\n",
       "    }\n",
       "\n",
       "    .dataframe thead th {\n",
       "        text-align: right;\n",
       "    }\n",
       "</style>\n",
       "<table border=\"1\" class=\"dataframe\">\n",
       "  <thead>\n",
       "    <tr style=\"text-align: right;\">\n",
       "      <th></th>\n",
       "      <th>id_left</th>\n",
       "      <th>place</th>\n",
       "      <th>latitude</th>\n",
       "      <th>longitude</th>\n",
       "      <th>geometry</th>\n",
       "      <th>index_right</th>\n",
       "      <th>id_right</th>\n",
       "      <th>country</th>\n",
       "    </tr>\n",
       "  </thead>\n",
       "  <tbody>\n",
       "    <tr>\n",
       "      <th>0</th>\n",
       "      <td>1</td>\n",
       "      <td>Tokyo</td>\n",
       "      <td>35.6762</td>\n",
       "      <td>139.6503</td>\n",
       "      <td>POINT (139.6503 35.6762)</td>\n",
       "      <td>1</td>\n",
       "      <td>2</td>\n",
       "      <td>Japan</td>\n",
       "    </tr>\n",
       "    <tr>\n",
       "      <th>1</th>\n",
       "      <td>2</td>\n",
       "      <td>San Francisco</td>\n",
       "      <td>37.7749</td>\n",
       "      <td>-122.4194</td>\n",
       "      <td>POINT (-122.4194 37.7749)</td>\n",
       "      <td>0</td>\n",
       "      <td>1</td>\n",
       "      <td>USA</td>\n",
       "    </tr>\n",
       "    <tr>\n",
       "      <th>2</th>\n",
       "      <td>3</td>\n",
       "      <td>Jakarta</td>\n",
       "      <td>-6.2088</td>\n",
       "      <td>106.8456</td>\n",
       "      <td>POINT (106.8456 -6.2088)</td>\n",
       "      <td>2</td>\n",
       "      <td>3</td>\n",
       "      <td>Indonesia</td>\n",
       "    </tr>\n",
       "  </tbody>\n",
       "</table>\n",
       "</div>"
      ],
      "text/plain": [
       "   id_left          place  latitude  longitude                   geometry  \\\n",
       "0        1          Tokyo   35.6762   139.6503   POINT (139.6503 35.6762)   \n",
       "1        2  San Francisco   37.7749  -122.4194  POINT (-122.4194 37.7749)   \n",
       "2        3        Jakarta   -6.2088   106.8456   POINT (106.8456 -6.2088)   \n",
       "\n",
       "   index_right  id_right    country  \n",
       "0            1         2      Japan  \n",
       "1            0         1        USA  \n",
       "2            2         3  Indonesia  "
      ]
     },
     "execution_count": 6,
     "metadata": {},
     "output_type": "execute_result"
    }
   ],
   "source": [
    "# import geopandas as gpd\n",
    "# from shapely.geometry import Point, Polygon\n",
    "\n",
    "# Example GeoDataFrame 1: Points (earthquake locations)\n",
    "data1 = {\n",
    "    'id': [1, 2, 3],\n",
    "    'place': ['Tokyo', 'San Francisco', 'Jakarta'],\n",
    "    'latitude': [35.6762, 37.7749, -6.2088],\n",
    "    'longitude': [139.6503, -122.4194, 106.8456]\n",
    "}\n",
    "geometry1 = [Point(xy) for xy in zip(data1['longitude'], data1['latitude'])]\n",
    "gdf1 = gpd.GeoDataFrame(data1, geometry=geometry1)\n",
    "\n",
    "# Example GeoDataFrame 2: Polygons (country borders)\n",
    "polygons = [\n",
    "    Polygon([(-125, 35), (-115, 35), (-115, 40), (-125, 40), (-125, 35)]),  # USA\n",
    "    Polygon([(130, 30), (140, 30), (140, 40), (130, 40), (130, 30)]),       # Japan\n",
    "    Polygon([(100, -10), (110, -10), (110, 0), (100, 0), (100, -10)])       # Indonesia\n",
    "]\n",
    "data2 = {'id': [1, 2, 3], 'country': ['USA', 'Japan', 'Indonesia']}\n",
    "gdf2 = gpd.GeoDataFrame(data2, geometry=polygons)\n",
    "\n",
    "# Perform spatial join (where points intersect polygons)\n",
    "joined_gdf = gpd.sjoin(gdf1, gdf2, how=\"inner\", predicate='intersects')\n",
    "\n",
    "# Display the result of the join\n",
    "joined_gdf.head()"
   ]
  },
  {
   "cell_type": "code",
   "execution_count": null,
   "id": "c8acde97-6261-4a2b-96ea-d7ce0dd0dcf3",
   "metadata": {},
   "outputs": [],
   "source": []
  }
 ],
 "metadata": {
  "kernelspec": {
   "display_name": "Python 3 (ipykernel)",
   "language": "python",
   "name": "python3"
  },
  "language_info": {
   "codemirror_mode": {
    "name": "ipython",
    "version": 3
   },
   "file_extension": ".py",
   "mimetype": "text/x-python",
   "name": "python",
   "nbconvert_exporter": "python",
   "pygments_lexer": "ipython3",
   "version": "3.12.6"
  }
 },
 "nbformat": 4,
 "nbformat_minor": 5
}
